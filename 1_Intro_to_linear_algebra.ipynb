{
  "nbformat": 4,
  "nbformat_minor": 0,
  "metadata": {
    "colab": {
      "provenance": [],
      "authorship_tag": "ABX9TyMMv6RnIX1yIynziy5uCP/x",
      "include_colab_link": true
    },
    "kernelspec": {
      "name": "python3",
      "display_name": "Python 3"
    },
    "language_info": {
      "name": "python"
    }
  },
  "cells": [
    {
      "cell_type": "markdown",
      "metadata": {
        "id": "view-in-github",
        "colab_type": "text"
      },
      "source": [
        "<a href=\"https://colab.research.google.com/github/sneelakandan/linearalgebra/blob/main/1_Intro_to_linear_algebra.ipynb\" target=\"_parent\"><img src=\"https://colab.research.google.com/assets/colab-badge.svg\" alt=\"Open In Colab\"/></a>"
      ]
    },
    {
      "cell_type": "markdown",
      "source": [
        "## Vectors\n",
        "\n",
        "\n",
        "1.   one dimensional array of numbers\n",
        "2.   Denoted in lowercase letters, italics\n",
        "3.   Arranged in an order, so element can be accessed by its index\n",
        "4.   Each element in a Vector is a scalar, so it is not Bold\n",
        "5.   Representing a point in space\n",
        "6.   Vector of length two represents location in 2D Space [x1, x2] = [12,4] this will represent 12 points in x axis and 4 in y axis\n",
        "7. Length of three represents location in 3D cube\n",
        "\n",
        "\n",
        "### Vector Transponse\n",
        "\n",
        "row vector to column vector\n",
        "\n",
        "Shape (1,3) = Shape (3,1)\n",
        "        \n",
        "\n",
        "\n",
        "\n",
        "\n",
        "\n",
        "\n",
        "\n"
      ],
      "metadata": {
        "id": "j_iSgoceBP1i"
      }
    },
    {
      "cell_type": "code",
      "source": [
        "import numpy as np"
      ],
      "metadata": {
        "id": "vOPy57oZOHOT"
      },
      "execution_count": 1,
      "outputs": []
    },
    {
      "cell_type": "code",
      "source": [
        "x = np.array([25,2,5])  # type argument is optional, e.g : dtype = np.float16\n",
        "x"
      ],
      "metadata": {
        "colab": {
          "base_uri": "https://localhost:8080/"
        },
        "id": "oma880XqOVEA",
        "outputId": "f10ce81b-b31d-458a-cb2e-5d37a11e1a48"
      },
      "execution_count": 2,
      "outputs": [
        {
          "output_type": "execute_result",
          "data": {
            "text/plain": [
              "array([25,  2,  5])"
            ]
          },
          "metadata": {},
          "execution_count": 2
        }
      ]
    },
    {
      "cell_type": "code",
      "source": [
        "len(x)"
      ],
      "metadata": {
        "colab": {
          "base_uri": "https://localhost:8080/"
        },
        "id": "orow1K4BOn3J",
        "outputId": "7b04e9f6-7286-45b1-9f3f-6be53385086d"
      },
      "execution_count": 3,
      "outputs": [
        {
          "output_type": "execute_result",
          "data": {
            "text/plain": [
              "3"
            ]
          },
          "metadata": {},
          "execution_count": 3
        }
      ]
    },
    {
      "cell_type": "code",
      "source": [
        "x.shape"
      ],
      "metadata": {
        "colab": {
          "base_uri": "https://localhost:8080/"
        },
        "id": "E0AyXJrLOuOF",
        "outputId": "db85b349-289e-48ef-b0b7-c5e438ccc007"
      },
      "execution_count": 4,
      "outputs": [
        {
          "output_type": "execute_result",
          "data": {
            "text/plain": [
              "(3,)"
            ]
          },
          "metadata": {},
          "execution_count": 4
        }
      ]
    },
    {
      "cell_type": "code",
      "source": [
        "type(x)"
      ],
      "metadata": {
        "colab": {
          "base_uri": "https://localhost:8080/"
        },
        "id": "7I8cJXgpOyQ5",
        "outputId": "c75d9f25-bac7-4cd9-f614-50261af0ce6e"
      },
      "execution_count": 5,
      "outputs": [
        {
          "output_type": "execute_result",
          "data": {
            "text/plain": [
              "numpy.ndarray"
            ]
          },
          "metadata": {},
          "execution_count": 5
        }
      ]
    },
    {
      "cell_type": "code",
      "source": [
        "x[0]  # Zero-indexed"
      ],
      "metadata": {
        "colab": {
          "base_uri": "https://localhost:8080/"
        },
        "id": "JSkF-jgQO-mU",
        "outputId": "ce4a806d-5d68-4225-e168-e174a3012657"
      },
      "execution_count": 6,
      "outputs": [
        {
          "output_type": "execute_result",
          "data": {
            "text/plain": [
              "25"
            ]
          },
          "metadata": {},
          "execution_count": 6
        }
      ]
    },
    {
      "cell_type": "code",
      "source": [
        "# Transposing a regular 1-D array has no effect\n",
        "x_t = x.T\n",
        "x_t"
      ],
      "metadata": {
        "colab": {
          "base_uri": "https://localhost:8080/"
        },
        "id": "UBVDNm3JPC93",
        "outputId": "c460350f-9468-418f-b437-48c8c07c4298"
      },
      "execution_count": 7,
      "outputs": [
        {
          "output_type": "execute_result",
          "data": {
            "text/plain": [
              "array([25,  2,  5])"
            ]
          },
          "metadata": {},
          "execution_count": 7
        }
      ]
    },
    {
      "cell_type": "code",
      "source": [
        "# But it does when we nested \"matrix-style\" brackets\n",
        "\n",
        "y = np.array([[25,2,5]])\n",
        "y.shape"
      ],
      "metadata": {
        "colab": {
          "base_uri": "https://localhost:8080/"
        },
        "id": "KkdZkrlHPde8",
        "outputId": "3b55f555-d422-4e1b-eb38-4f918ad32b5f"
      },
      "execution_count": 9,
      "outputs": [
        {
          "output_type": "execute_result",
          "data": {
            "text/plain": [
              "(1, 3)"
            ]
          },
          "metadata": {},
          "execution_count": 9
        }
      ]
    },
    {
      "cell_type": "code",
      "source": [
        "y_t = y.T\n",
        "y_t"
      ],
      "metadata": {
        "colab": {
          "base_uri": "https://localhost:8080/"
        },
        "id": "9ZigcYEaPxgu",
        "outputId": "5ae1e35f-1dad-487a-c781-ce71b15d3e27"
      },
      "execution_count": 10,
      "outputs": [
        {
          "output_type": "execute_result",
          "data": {
            "text/plain": [
              "array([[25],\n",
              "       [ 2],\n",
              "       [ 5]])"
            ]
          },
          "metadata": {},
          "execution_count": 10
        }
      ]
    },
    {
      "cell_type": "code",
      "source": [
        "y_t.shape"
      ],
      "metadata": {
        "colab": {
          "base_uri": "https://localhost:8080/"
        },
        "id": "Z4RUkHgCP6V5",
        "outputId": "ee4c5ff1-0449-40ce-e4b3-4f9fe7275118"
      },
      "execution_count": 11,
      "outputs": [
        {
          "output_type": "execute_result",
          "data": {
            "text/plain": [
              "(3, 1)"
            ]
          },
          "metadata": {},
          "execution_count": 11
        }
      ]
    },
    {
      "cell_type": "code",
      "source": [
        "y_t.T   # We can transpose it back to original again\n"
      ],
      "metadata": {
        "colab": {
          "base_uri": "https://localhost:8080/"
        },
        "id": "3ExR7H83QynH",
        "outputId": "f0be9e2b-465c-4059-8c8f-250aecc434c7"
      },
      "execution_count": 14,
      "outputs": [
        {
          "output_type": "execute_result",
          "data": {
            "text/plain": [
              "array([[25,  2,  5]])"
            ]
          },
          "metadata": {},
          "execution_count": 14
        }
      ]
    },
    {
      "cell_type": "code",
      "source": [
        "y_t.T.shape"
      ],
      "metadata": {
        "colab": {
          "base_uri": "https://localhost:8080/"
        },
        "id": "PgLfhRT8Q-vE",
        "outputId": "231ccd96-0ea0-466a-e937-a318427923b3"
      },
      "execution_count": 15,
      "outputs": [
        {
          "output_type": "execute_result",
          "data": {
            "text/plain": [
              "(1, 3)"
            ]
          },
          "metadata": {},
          "execution_count": 15
        }
      ]
    },
    {
      "cell_type": "markdown",
      "source": [
        "## Zero Vectors\n",
        "\n",
        "### Have no effect if added to another vectors"
      ],
      "metadata": {
        "id": "D41wB18yRTd9"
      }
    },
    {
      "cell_type": "code",
      "source": [
        "z = np.zeros(3)\n",
        "z"
      ],
      "metadata": {
        "colab": {
          "base_uri": "https://localhost:8080/"
        },
        "id": "g3U-BVQYRfIp",
        "outputId": "6d8f38f6-dcb8-4612-b1cf-9444a6da91ec"
      },
      "execution_count": 16,
      "outputs": [
        {
          "output_type": "execute_result",
          "data": {
            "text/plain": [
              "array([0., 0., 0.])"
            ]
          },
          "metadata": {},
          "execution_count": 16
        }
      ]
    },
    {
      "cell_type": "markdown",
      "source": [
        "## Vectors in PyTorch and TensorFlow"
      ],
      "metadata": {
        "id": "QY1h_kWyRs6H"
      }
    },
    {
      "cell_type": "code",
      "source": [
        "import torch\n",
        "x_pt = torch.tensor([25,2,5])     #pytorch example\n",
        "x_pt"
      ],
      "metadata": {
        "colab": {
          "base_uri": "https://localhost:8080/"
        },
        "id": "xYJmy7HBR0cr",
        "outputId": "a3178534-ca64-4145-cbfe-e11735d9696c"
      },
      "execution_count": 17,
      "outputs": [
        {
          "output_type": "execute_result",
          "data": {
            "text/plain": [
              "tensor([25,  2,  5])"
            ]
          },
          "metadata": {},
          "execution_count": 17
        }
      ]
    },
    {
      "cell_type": "code",
      "source": [
        "import tensorflow as tf\n",
        "x_tf = tf.Variable([25,2,5])\n",
        "x_tf"
      ],
      "metadata": {
        "colab": {
          "base_uri": "https://localhost:8080/"
        },
        "id": "32h7gHf1SZ8M",
        "outputId": "a28ff4c2-2921-4934-f156-7dc9229c4594"
      },
      "execution_count": 18,
      "outputs": [
        {
          "output_type": "execute_result",
          "data": {
            "text/plain": [
              "<tf.Variable 'Variable:0' shape=(3,) dtype=int32, numpy=array([25,  2,  5], dtype=int32)>"
            ]
          },
          "metadata": {},
          "execution_count": 18
        }
      ]
    }
  ]
}